{
 "cells": [
  {
   "cell_type": "markdown",
   "metadata": {},
   "source": [
    "### Problem 2: Summarizing trending topics about a location (place). \n",
    "\n",
    "When we are visiting places (say, for an interview or other official visits) you may want to about topics trending in that place. Instead of reading newspapers and online news, you want just a quick summary. You want to put use your twitter “data client” application development experience. You use the twitteR libraries “trends” function to retrieve 10 top things trending about the place and summarize it appropriately as a complete message (print out). \n",
    "\n",
    "All the steps to achieve the abive goal have been commented and even the generalization for querying trends for any location has been done in Step 5. \n"
   ]
  },
  {
   "cell_type": "code",
   "execution_count": 1,
   "metadata": {
    "collapsed": true
   },
   "outputs": [],
   "source": [
    "#Step 1: Importing main twitteR library for collecting and processing tweets\n",
    "library(twitteR)"
   ]
  },
  {
   "cell_type": "code",
   "execution_count": 2,
   "metadata": {
    "collapsed": false
   },
   "outputs": [
    {
     "name": "stdout",
     "output_type": "stream",
     "text": [
      "[1] \"Using direct authentication\"\n"
     ]
    }
   ],
   "source": [
    "#Step 2: Setup authentication to twitter API\n",
    "setup_twitter_oauth(\"cThiEKEuj1xbncJEbCAXFOmUO\",\"0x6ka7SGH40pzw3L9ccvMThqO6FezQXDNeJp6DK947jxOAZFRV\", \"772583706783612932-2MPBfAcvpRzXP78C3aeYYFof7Xfj5vk\", \"GgOWWzRDhBuSYD0jaPvHAZCAH4WPg3RolpOdNtVjDnHnC\")"
   ]
  },
  {
   "cell_type": "code",
   "execution_count": 3,
   "metadata": {
    "collapsed": false
   },
   "outputs": [
    {
     "name": "stderr",
     "output_type": "stream",
     "text": [
      "Updating HTML index of packages in '.Library'\n",
      "Making 'packages.html' ... done\n",
      "Updating HTML index of packages in '.Library'\n",
      "Making 'packages.html' ... done\n"
     ]
    }
   ],
   "source": [
    "#Step 3: Installing Packages for plotting maps\n",
    "install.packages(\"maps\")\n",
    "install.packages(\"ggmap\")"
   ]
  },
  {
   "cell_type": "code",
   "execution_count": 4,
   "metadata": {
    "collapsed": false
   },
   "outputs": [
    {
     "name": "stderr",
     "output_type": "stream",
     "text": [
      "Loading required package: ggplot2\n"
     ]
    }
   ],
   "source": [
    "#Step 4: Importing Libraries Required\n",
    "library(maps)\n",
    "library(ggmap)"
   ]
  },
  {
   "cell_type": "code",
   "execution_count": 5,
   "metadata": {
    "collapsed": true
   },
   "outputs": [],
   "source": [
    "#Step 5: Searching tweets for the mentioned query (location) and taking in a data frame\n",
    "query_location <- \"Florida\""
   ]
  },
  {
   "cell_type": "markdown",
   "metadata": {},
   "source": [
    "Note: Enter location for which trends have to be searched in place of \"Florida\""
   ]
  },
  {
   "cell_type": "code",
   "execution_count": 6,
   "metadata": {
    "collapsed": false
   },
   "outputs": [
    {
     "name": "stderr",
     "output_type": "stream",
     "text": [
      "Information from URL : http://maps.googleapis.com/maps/api/geocode/json?address=Florida&sensor=false\n"
     ]
    }
   ],
   "source": [
    "#Step 6: Fetching the latitude and longitude for the location specified in query variable\n",
    "location_geocode <-  geocode(query_location)\n",
    "longitude <- location_geocode$lon\n",
    "latitude <- location_geocode$lat"
   ]
  },
  {
   "cell_type": "code",
   "execution_count": 7,
   "metadata": {
    "collapsed": false
   },
   "outputs": [],
   "source": [
    "#Step 7: Search woeid for the location using its latitude and longitude values and then get the latest top 10 trends there\n",
    "closeTrends <- closestTrendLocations(latitude, longitude)\n",
    "trends <- getTrends(closeTrends$woeid)\n",
    "top10_trends <- head(trends$name, 10)"
   ]
  },
  {
   "cell_type": "code",
   "execution_count": 8,
   "metadata": {
    "collapsed": false
   },
   "outputs": [
    {
     "data": {
      "text/html": [
       "'#NationalDrinkWineDay ,Norma McCorvey ,Rocko ,#NotTheEnemy ,Clyde Stubblefield ,#ItsOnlyFunUntil ,Baylor ,#IfIHadAPetWhale ,#IStandWithMarksThiccNeck ,CPAC'"
      ],
      "text/latex": [
       "'\\#NationalDrinkWineDay ,Norma McCorvey ,Rocko ,\\#NotTheEnemy ,Clyde Stubblefield ,\\#ItsOnlyFunUntil ,Baylor ,\\#IfIHadAPetWhale ,\\#IStandWithMarksThiccNeck ,CPAC'"
      ],
      "text/markdown": [
       "'#NationalDrinkWineDay ,Norma McCorvey ,Rocko ,#NotTheEnemy ,Clyde Stubblefield ,#ItsOnlyFunUntil ,Baylor ,#IfIHadAPetWhale ,#IStandWithMarksThiccNeck ,CPAC'"
      ],
      "text/plain": [
       "[1] \"#NationalDrinkWineDay ,Norma McCorvey ,Rocko ,#NotTheEnemy ,Clyde Stubblefield ,#ItsOnlyFunUntil ,Baylor ,#IfIHadAPetWhale ,#IStandWithMarksThiccNeck ,CPAC\""
      ]
     },
     "metadata": {},
     "output_type": "display_data"
    }
   ],
   "source": [
    "#Step 8: Summarizing the top 10 trends and printing them out as a sentence\n",
    "str <- capture.output(cat(top10_trends, sep=\" ,\"))\n",
    "str"
   ]
  },
  {
   "cell_type": "markdown",
   "metadata": {},
   "source": [
    "#### References:\n",
    "[1] TwitteR package. https://cran.r-project.org/web/packages/twitteR/twitteR.pdf, last viewed 2017\n",
    "\n",
    "[2] J. Gentry. TwitteR Vignette: A Twitter Client for R. http://geoffjentry.hexdump.org/twitteR.pdf, last viewed 2017."
   ]
  }
 ],
 "metadata": {
  "kernelspec": {
   "display_name": "R",
   "language": "R",
   "name": "ir"
  },
  "language_info": {
   "codemirror_mode": "r",
   "file_extension": ".r",
   "mimetype": "text/x-r-source",
   "name": "R",
   "pygments_lexer": "r",
   "version": "3.3.2"
  }
 },
 "nbformat": 4,
 "nbformat_minor": 2
}
