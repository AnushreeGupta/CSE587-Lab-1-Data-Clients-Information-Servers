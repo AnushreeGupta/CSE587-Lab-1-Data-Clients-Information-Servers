{
 "cells": [
  {
   "cell_type": "markdown",
   "metadata": {},
   "source": [
    "### Learning Jupyter, R and twitteR: \n",
    "\n",
    "Working with twitteR package library vignette.\n",
    "\n",
    "#### Reference:\n",
    "\n",
    "[1] J. Gentry. TwitteR Vignette: A Twitter Client for R. http://geoffjentry.hexdump.org/twitteR.pdf, last viewed 2017."
   ]
  },
  {
   "cell_type": "code",
   "execution_count": 1,
   "metadata": {
    "collapsed": true
   },
   "outputs": [],
   "source": [
    "#4. Importing twitteR library\n",
    "\n",
    "library(twitteR)"
   ]
  },
  {
   "cell_type": "code",
   "execution_count": 2,
   "metadata": {
    "collapsed": false,
    "scrolled": true
   },
   "outputs": [
    {
     "name": "stdout",
     "output_type": "stream",
     "text": [
      "[1] \"Using direct authentication\"\n"
     ]
    }
   ],
   "source": [
    "#Authentication to use Twitter API\n",
    "\n",
    "setup_twitter_oauth(\"cThiEKEuj1xbncJEbCAXFOmUO\",\"0x6ka7SGH40pzw3L9ccvMThqO6FezQXDNeJp6DK947jxOAZFRV\", \"772583706783612932-2MPBfAcvpRzXP78C3aeYYFof7Xfj5vk\", \"GgOWWzRDhBuSYD0jaPvHAZCAH4WPg3RolpOdNtVjDnHnC\")"
   ]
  },
  {
   "cell_type": "code",
   "execution_count": 3,
   "metadata": {
    "collapsed": false
   },
   "outputs": [
    {
     "data": {
      "text/plain": [
       "[[1]]\n",
       "[1] \"Stefaniagerma: RT @RICHYSQUIRREL: . #SuperBowl @ladygaga @pepsi Some dreams are unexpected then reality throws you a football! Big thanks everyone apart o…\"\n",
       "\n",
       "[[2]]\n",
       "[1] \"milehighcompany: DenverWestword: More customers bought indica #cannabis on this year's #SuperBowl than last. https://t.co/l3QI21jnHK\"\n",
       "\n",
       "[[3]]\n",
       "[1] \"briancruze_usa: @ladygaga Thank u 4not being political during the #superbowl Its refreshing to c an ENTERTAINER rather than a politician during 1/2time #USA\"\n",
       "\n",
       "[[4]]\n",
       "[1] \"DenverWestword: More customers bought indica #cannabis on this year's #SuperBowl than last. https://t.co/jSiSHBNPRi\"\n",
       "\n",
       "[[5]]\n",
       "[1] \"m645_a: RT @LM_danielaa: EL SHOW DE GAGA EN EL #SUPERBOWL SE HA CONVERTIDO EN EL SHOW MUSICAL CON MAS AUDIENCIA DE LA HISTORIA! https://t.co/oQKYsF…\"\n",
       "\n",
       "[[6]]\n",
       "[1] \"Looh_06: RT @g1ladygaga: KAGA: as duas maiores recordistas do #SuperBowl que vocês respeitam! https://t.co/Zx4btFZflW\"\n"
      ]
     },
     "metadata": {},
     "output_type": "display_data"
    }
   ],
   "source": [
    "#5.1 Searching Twitter\n",
    "\n",
    "tweets<-searchTwitter('#Superbowl', n=50)\n",
    "head(tweets)"
   ]
  },
  {
   "cell_type": "code",
   "execution_count": 4,
   "metadata": {
    "collapsed": false
   },
   "outputs": [
    {
     "data": {
      "text/plain": [
       "[[1]]\n",
       "[1] \"milehighcompany: DenverWestword: More customers bought indica #cannabis on this year's #SuperBowl than last. https://t.co/l3QI21jnHK\"\n",
       "\n",
       "[[2]]\n",
       "[1] \"briancruze_usa: @ladygaga Thank u 4not being political during the #superbowl Its refreshing to c an ENTERTAINER rather than a politician during 1/2time #USA\"\n",
       "\n",
       "[[3]]\n",
       "[1] \"DenverWestword: More customers bought indica #cannabis on this year's #SuperBowl than last. https://t.co/jSiSHBNPRi\"\n",
       "\n",
       "[[4]]\n",
       "[1] \"TeamBeerGutz: First #workout since back injury before the #Superbowl. Feels good w @shauntfitness and @FocusT25 #Cardio. #EarnYourBeer.\"\n",
       "\n",
       "[[5]]\n",
       "[1] \"bmxfrank: First #workout since hurting my back before the #Superbowl. Feels good w @shauntfitness and my #Girlfriend @FocusT25 #Cardio. #FitCouples.\"\n",
       "\n",
       "[[6]]\n",
       "[1] \"TommyIrene1: Wager #bitcoin #btc on #esports #freeroll sign up today 4 100% deposit bonus #SuperBowl #poker #nfl #SportsBetting https://t.co/PgEzB8NxTG\"\n"
      ]
     },
     "metadata": {},
     "output_type": "display_data"
    }
   ],
   "source": [
    "#Stripping retweets and printing the tweets\n",
    "\n",
    "head(strip_retweets(tweets,strip_manual=TRUE,strip_mt=TRUE))"
   ]
  },
  {
   "cell_type": "code",
   "execution_count": 5,
   "metadata": {
    "collapsed": false
   },
   "outputs": [
    {
     "data": {
      "text/html": [
       "'I like some things, and I dislike everything else.'"
      ],
      "text/latex": [
       "'I like some things, and I dislike everything else.'"
      ],
      "text/markdown": [
       "'I like some things, and I dislike everything else.'"
      ],
      "text/plain": [
       "[1] \"I like some things, and I dislike everything else.\""
      ]
     },
     "metadata": {},
     "output_type": "display_data"
    }
   ],
   "source": [
    "#5.2 Looking at users, using the screenname\n",
    "\n",
    "crantastic<-getUser('crantastic')\n",
    "crantastic$getDescription()"
   ]
  },
  {
   "cell_type": "code",
   "execution_count": 6,
   "metadata": {
    "collapsed": false
   },
   "outputs": [
    {
     "data": {
      "text/html": [
       "32"
      ],
      "text/latex": [
       "32"
      ],
      "text/markdown": [
       "32"
      ],
      "text/plain": [
       "[1] 32"
      ]
     },
     "metadata": {},
     "output_type": "display_data"
    }
   ],
   "source": [
    "#Followers Count for the twitter user\n",
    "\n",
    "crantastic$getFollowersCount()"
   ]
  },
  {
   "cell_type": "code",
   "execution_count": 7,
   "metadata": {
    "collapsed": false
   },
   "outputs": [
    {
     "data": {
      "text/plain": [
       "$`35985504`\n",
       "[1] \"MisElizaJane\"\n",
       "\n",
       "$`90472293`\n",
       "[1] \"emtothea\"\n",
       "\n",
       "$`30987732`\n",
       "[1] \"MelanieScrofano\"\n",
       "\n",
       "$`4709232802`\n",
       "[1] \"WynonnaEarp\"\n"
      ]
     },
     "metadata": {},
     "output_type": "display_data"
    }
   ],
   "source": [
    "#Friends count for the twitter user\n",
    "\n",
    "crantastic$getFriends(n=5)"
   ]
  },
  {
   "cell_type": "code",
   "execution_count": 8,
   "metadata": {
    "collapsed": false,
    "scrolled": true
   },
   "outputs": [
    {
     "data": {
      "text/plain": [
       "[[1]]\n",
       "[1] \"erictcarrasco: That \\\"Black lung\\\" line was a @Chy_Leigh joke. Loved it so much we made her keep saying it. #Supergirl #SupergirlLives #Sanvers\"\n",
       "\n",
       "[[2]]\n",
       "[1] \"MelanieScrofano: I shall be INSUFFERABLE when the @WynonnaEarp comic I'm co-writing with @BeauSmithRanch comes out. \\\"The Earp Sister… https://t.co/h0Q6XrE1dV\"\n",
       "\n",
       "[[3]]\n",
       "[1] \"katevoegele: just casually throwing my white gold hoops in the ring to play #GretchenWieners in this https://t.co/0l9FSGjTuD\"\n",
       "\n",
       "[[4]]\n",
       "[1] \"boglesthemind: Here we go, QSO - female writer, female director, female producer, female editor, female lead, female first ad #PersonOfInterest #toofemale\"\n",
       "\n",
       "[[5]]\n",
       "[1] \"ohnikkers: @keithkurson naw they did two shows in london and i went to both.  i made hannah fall in love with the scottish accent tho so NEXT TIME\"\n"
      ]
     },
     "metadata": {},
     "output_type": "display_data"
    }
   ],
   "source": [
    "#Favorites for the twitter user\n",
    "\n",
    "crantastic$getFavorites(n=5)"
   ]
  },
  {
   "cell_type": "code",
   "execution_count": 9,
   "metadata": {
    "collapsed": false
   },
   "outputs": [
    {
     "data": {
      "text/html": [
       "<table>\n",
       "<thead><tr><th scope=col>text</th><th scope=col>favorited</th><th scope=col>favoriteCount</th><th scope=col>replyToSN</th><th scope=col>created</th><th scope=col>truncated</th><th scope=col>replyToSID</th><th scope=col>id</th><th scope=col>replyToUID</th><th scope=col>statusSource</th><th scope=col>screenName</th><th scope=col>retweetCount</th><th scope=col>isRetweet</th><th scope=col>retweeted</th><th scope=col>longitude</th><th scope=col>latitude</th></tr></thead>\n",
       "<tbody>\n",
       "\t<tr><td>RT @RICHYSQUIRREL: . #SuperBowl @ladygaga @pepsi Some dreams are unexpected then reality throws you a football! Big thanks everyone apart o…</td><td>FALSE                                                                                                                                       </td><td>0                                                                                                                                           </td><td><span style=white-space:pre-wrap>NA      </span>                                                                                            </td><td>2017-02-18 16:29:37                                                                                                                         </td><td>FALSE                                                                                                                                       </td><td>NA                                                                                                                                          </td><td>832990465322528768                                                                                                                          </td><td><span style=white-space:pre-wrap>NA      </span>                                                                                            </td><td>&lt;a href=\"http://twitter.com/download/android\" rel=\"nofollow\"&gt;Twitter for Android&lt;/a&gt;                                            </td><td><span style=white-space:pre-wrap>Stefaniagerma  </span>                                                                                     </td><td>291                                                                                                                                         </td><td> TRUE                                                                                                                                       </td><td>FALSE                                                                                                                                       </td><td>NA                                                                                                                                          </td><td>NA                                                                                                                                          </td></tr>\n",
       "\t<tr><td><span style=white-space:pre-wrap>DenverWestword: More customers bought indica #cannabis on this year's #SuperBowl than last. https://t.co/l3QI21jnHK                         </span></td><td>FALSE                                                                                                                                                                               </td><td>0                                                                                                                                                                                   </td><td><span style=white-space:pre-wrap>NA      </span>                                                                                                                                    </td><td>2017-02-18 16:29:20                                                                                                                                                                 </td><td>FALSE                                                                                                                                                                               </td><td>NA                                                                                                                                                                                  </td><td>832990393532821504                                                                                                                                                                  </td><td><span style=white-space:pre-wrap>NA      </span>                                                                                                                                    </td><td><span style=white-space:pre-wrap>&lt;a href=\"https://ifttt.com\" rel=\"nofollow\"&gt;IFTTT&lt;/a&gt;                                </span>                                            </td><td>milehighcompany                                                                                                                                                                     </td><td><span style=white-space:pre-wrap>  0</span>                                                                                                                                         </td><td>FALSE                                                                                                                                                                               </td><td>FALSE                                                                                                                                                                               </td><td>NA                                                                                                                                                                                  </td><td>NA                                                                                                                                                                                  </td></tr>\n",
       "\t<tr><td>@ladygaga Thank u 4not being political during the #superbowl Its refreshing to c an ENTERTAINER rather than a politician during 1/2time #USA</td><td>FALSE                                                                                                                                       </td><td>0                                                                                                                                           </td><td>ladygaga                                                                                                                                    </td><td>2017-02-18 16:29:14                                                                                                                         </td><td>FALSE                                                                                                                                       </td><td>NA                                                                                                                                          </td><td>832990368358469632                                                                                                                          </td><td>14230524                                                                                                                                    </td><td><span style=white-space:pre-wrap>&lt;a href=\"http://twitter.com\" rel=\"nofollow\"&gt;Twitter Web Client&lt;/a&gt;                  </span>    </td><td>briancruze_usa                                                                                                                              </td><td><span style=white-space:pre-wrap>  0</span>                                                                                                 </td><td>FALSE                                                                                                                                       </td><td>FALSE                                                                                                                                       </td><td>NA                                                                                                                                          </td><td>NA                                                                                                                                          </td></tr>\n",
       "\t<tr><td><span style=white-space:pre-wrap>More customers bought indica #cannabis on this year's #SuperBowl than last. https://t.co/jSiSHBNPRi                                         </span></td><td>FALSE                                                                                                                                                                               </td><td>0                                                                                                                                                                                   </td><td><span style=white-space:pre-wrap>NA      </span>                                                                                                                                    </td><td>2017-02-18 16:29:00                                                                                                                                                                 </td><td>FALSE                                                                                                                                                                               </td><td>NA                                                                                                                                                                                  </td><td>832990309453672449                                                                                                                                                                  </td><td><span style=white-space:pre-wrap>NA      </span>                                                                                                                                    </td><td>&lt;a href=\"https://about.twitter.com/products/tweetdeck\" rel=\"nofollow\"&gt;TweetDeck&lt;/a&gt;                                                                                     </td><td>DenverWestword                                                                                                                                                                      </td><td><span style=white-space:pre-wrap>  0</span>                                                                                                                                         </td><td>FALSE                                                                                                                                                                               </td><td>FALSE                                                                                                                                                                               </td><td>NA                                                                                                                                                                                  </td><td>NA                                                                                                                                                                                  </td></tr>\n",
       "\t<tr><td>RT @LM_danielaa: EL SHOW DE GAGA EN EL #SUPERBOWL SE HA CONVERTIDO EN EL SHOW MUSICAL CON MAS AUDIENCIA DE LA HISTORIA! https://t.co/oQKYsF…</td><td>FALSE                                                                                                                                       </td><td>0                                                                                                                                           </td><td><span style=white-space:pre-wrap>NA      </span>                                                                                            </td><td>2017-02-18 16:28:51                                                                                                                         </td><td>FALSE                                                                                                                                       </td><td>NA                                                                                                                                          </td><td>832990272908881922                                                                                                                          </td><td><span style=white-space:pre-wrap>NA      </span>                                                                                            </td><td><span style=white-space:pre-wrap>&lt;a href=\"http://twitter.com/#!/download/ipad\" rel=\"nofollow\"&gt;Twitter for iPad&lt;/a&gt;   </span>    </td><td><span style=white-space:pre-wrap>m645_a         </span>                                                                                     </td><td> 24                                                                                                                                         </td><td> TRUE                                                                                                                                       </td><td>FALSE                                                                                                                                       </td><td>NA                                                                                                                                          </td><td>NA                                                                                                                                          </td></tr>\n",
       "\t<tr><td><span style=white-space:pre-wrap>RT @g1ladygaga: KAGA: as duas maiores recordistas do #SuperBowl que vocês respeitam! https://t.co/Zx4btFZflW                                </span></td><td>FALSE                                                                                                                                                                               </td><td>0                                                                                                                                                                                   </td><td><span style=white-space:pre-wrap>NA      </span>                                                                                                                                    </td><td>2017-02-18 16:28:49                                                                                                                                                                 </td><td>FALSE                                                                                                                                                                               </td><td>NA                                                                                                                                                                                  </td><td>832990262322405380                                                                                                                                                                  </td><td><span style=white-space:pre-wrap>NA      </span>                                                                                                                                    </td><td><span style=white-space:pre-wrap>&lt;a href=\"http://twitter.com\" rel=\"nofollow\"&gt;Twitter Web Client&lt;/a&gt;                  </span>                                            </td><td><span style=white-space:pre-wrap>Looh_06        </span>                                                                                                                             </td><td> 22                                                                                                                                                                                 </td><td> TRUE                                                                                                                                                                               </td><td>FALSE                                                                                                                                                                               </td><td>NA                                                                                                                                                                                  </td><td>NA                                                                                                                                                                                  </td></tr>\n",
       "</tbody>\n",
       "</table>\n"
      ],
      "text/latex": [
       "\\begin{tabular}{r|llllllllllllllll}\n",
       " text & favorited & favoriteCount & replyToSN & created & truncated & replyToSID & id & replyToUID & statusSource & screenName & retweetCount & isRetweet & retweeted & longitude & latitude\\\\\n",
       "\\hline\n",
       "\t RT @RICHYSQUIRREL: . \\#SuperBowl @ladygaga @pepsi Some dreams are unexpected then reality throws you a football! Big thanks everyone apart o… & FALSE                                                                                                                                          & 0                                                                                                                                              & NA                                                                                                                                             & 2017-02-18 16:29:37                                                                                                                            & FALSE                                                                                                                                          & NA                                                                                                                                             & 832990465322528768                                                                                                                             & NA                                                                                                                                             & <a href=\"http://twitter.com/download/android\" rel=\"nofollow\">Twitter for Android</a>                                                           & Stefaniagerma                                                                                                                                  & 291                                                                                                                                            &  TRUE                                                                                                                                          & FALSE                                                                                                                                          & NA                                                                                                                                             & NA                                                                                                                                            \\\\\n",
       "\t DenverWestword: More customers bought indica \\#cannabis on this year's \\#SuperBowl than last. https://t.co/l3QI21jnHK                          & FALSE                                                                                                                                            & 0                                                                                                                                                & NA                                                                                                                                               & 2017-02-18 16:29:20                                                                                                                              & FALSE                                                                                                                                            & NA                                                                                                                                               & 832990393532821504                                                                                                                               & NA                                                                                                                                               & <a href=\"https://ifttt.com\" rel=\"nofollow\">IFTTT</a>                                                                                             & milehighcompany                                                                                                                                  &   0                                                                                                                                              & FALSE                                                                                                                                            & FALSE                                                                                                                                            & NA                                                                                                                                               & NA                                                                                                                                              \\\\\n",
       "\t @ladygaga Thank u 4not being political during the \\#superbowl Its refreshing to c an ENTERTAINER rather than a politician during 1/2time \\#USA & FALSE                                                                                                                                            & 0                                                                                                                                                & ladygaga                                                                                                                                         & 2017-02-18 16:29:14                                                                                                                              & FALSE                                                                                                                                            & NA                                                                                                                                               & 832990368358469632                                                                                                                               & 14230524                                                                                                                                         & <a href=\"http://twitter.com\" rel=\"nofollow\">Twitter Web Client</a>                                                                               & briancruze\\_usa                                                                                                                                 &   0                                                                                                                                              & FALSE                                                                                                                                            & FALSE                                                                                                                                            & NA                                                                                                                                               & NA                                                                                                                                              \\\\\n",
       "\t More customers bought indica \\#cannabis on this year's \\#SuperBowl than last. https://t.co/jSiSHBNPRi                                          & FALSE                                                                                                                                            & 0                                                                                                                                                & NA                                                                                                                                               & 2017-02-18 16:29:00                                                                                                                              & FALSE                                                                                                                                            & NA                                                                                                                                               & 832990309453672449                                                                                                                               & NA                                                                                                                                               & <a href=\"https://about.twitter.com/products/tweetdeck\" rel=\"nofollow\">TweetDeck</a>                                                              & DenverWestword                                                                                                                                   &   0                                                                                                                                              & FALSE                                                                                                                                            & FALSE                                                                                                                                            & NA                                                                                                                                               & NA                                                                                                                                              \\\\\n",
       "\t RT @LM\\_danielaa: EL SHOW DE GAGA EN EL \\#SUPERBOWL SE HA CONVERTIDO EN EL SHOW MUSICAL CON MAS AUDIENCIA DE LA HISTORIA! https://t.co/oQKYsF… & FALSE                                                                                                                                            & 0                                                                                                                                                & NA                                                                                                                                               & 2017-02-18 16:28:51                                                                                                                              & FALSE                                                                                                                                            & NA                                                                                                                                               & 832990272908881922                                                                                                                               & NA                                                                                                                                               & <a href=\"http://twitter.com/\\#!/download/ipad\" rel=\"nofollow\">Twitter for iPad</a>                                                              & m645\\_a                                                                                                                                         &  24                                                                                                                                              &  TRUE                                                                                                                                            & FALSE                                                                                                                                            & NA                                                                                                                                               & NA                                                                                                                                              \\\\\n",
       "\t RT @g1ladygaga: KAGA: as duas maiores recordistas do \\#SuperBowl que vocês respeitam! https://t.co/Zx4btFZflW                                 & FALSE                                                                                                                                          & 0                                                                                                                                              & NA                                                                                                                                             & 2017-02-18 16:28:49                                                                                                                            & FALSE                                                                                                                                          & NA                                                                                                                                             & 832990262322405380                                                                                                                             & NA                                                                                                                                             & <a href=\"http://twitter.com\" rel=\"nofollow\">Twitter Web Client</a>                                                                             & Looh\\_06                                                                                                                                      &  22                                                                                                                                            &  TRUE                                                                                                                                          & FALSE                                                                                                                                          & NA                                                                                                                                             & NA                                                                                                                                            \\\\\n",
       "\\end{tabular}\n"
      ],
      "text/markdown": [
       "\n",
       "text | favorited | favoriteCount | replyToSN | created | truncated | replyToSID | id | replyToUID | statusSource | screenName | retweetCount | isRetweet | retweeted | longitude | latitude | \n",
       "|---|---|---|---|---|---|\n",
       "| RT @RICHYSQUIRREL: . #SuperBowl @ladygaga @pepsi Some dreams are unexpected then reality throws you a football! Big thanks everyone apart o… | FALSE                                                                                                                                        | 0                                                                                                                                            | NA                                                                                                                                           | 2017-02-18 16:29:37                                                                                                                          | FALSE                                                                                                                                        | NA                                                                                                                                           | 832990465322528768                                                                                                                           | NA                                                                                                                                           | <a href=\"http://twitter.com/download/android\" rel=\"nofollow\">Twitter for Android</a>                                                         | Stefaniagerma                                                                                                                                | 291                                                                                                                                          |  TRUE                                                                                                                                        | FALSE                                                                                                                                        | NA                                                                                                                                           | NA                                                                                                                                           | \n",
       "| DenverWestword: More customers bought indica #cannabis on this year's #SuperBowl than last. https://t.co/l3QI21jnHK                          | FALSE                                                                                                                                        | 0                                                                                                                                            | NA                                                                                                                                           | 2017-02-18 16:29:20                                                                                                                          | FALSE                                                                                                                                        | NA                                                                                                                                           | 832990393532821504                                                                                                                           | NA                                                                                                                                           | <a href=\"https://ifttt.com\" rel=\"nofollow\">IFTTT</a>                                                                                         | milehighcompany                                                                                                                              |   0                                                                                                                                          | FALSE                                                                                                                                        | FALSE                                                                                                                                        | NA                                                                                                                                           | NA                                                                                                                                           | \n",
       "| @ladygaga Thank u 4not being political during the #superbowl Its refreshing to c an ENTERTAINER rather than a politician during 1/2time #USA | FALSE                                                                                                                                        | 0                                                                                                                                            | ladygaga                                                                                                                                     | 2017-02-18 16:29:14                                                                                                                          | FALSE                                                                                                                                        | NA                                                                                                                                           | 832990368358469632                                                                                                                           | 14230524                                                                                                                                     | <a href=\"http://twitter.com\" rel=\"nofollow\">Twitter Web Client</a>                                                                           | briancruze_usa                                                                                                                               |   0                                                                                                                                          | FALSE                                                                                                                                        | FALSE                                                                                                                                        | NA                                                                                                                                           | NA                                                                                                                                           | \n",
       "| More customers bought indica #cannabis on this year's #SuperBowl than last. https://t.co/jSiSHBNPRi                                          | FALSE                                                                                                                                        | 0                                                                                                                                            | NA                                                                                                                                           | 2017-02-18 16:29:00                                                                                                                          | FALSE                                                                                                                                        | NA                                                                                                                                           | 832990309453672449                                                                                                                           | NA                                                                                                                                           | <a href=\"https://about.twitter.com/products/tweetdeck\" rel=\"nofollow\">TweetDeck</a>                                                          | DenverWestword                                                                                                                               |   0                                                                                                                                          | FALSE                                                                                                                                        | FALSE                                                                                                                                        | NA                                                                                                                                           | NA                                                                                                                                           | \n",
       "| RT @LM_danielaa: EL SHOW DE GAGA EN EL #SUPERBOWL SE HA CONVERTIDO EN EL SHOW MUSICAL CON MAS AUDIENCIA DE LA HISTORIA! https://t.co/oQKYsF… | FALSE                                                                                                                                        | 0                                                                                                                                            | NA                                                                                                                                           | 2017-02-18 16:28:51                                                                                                                          | FALSE                                                                                                                                        | NA                                                                                                                                           | 832990272908881922                                                                                                                           | NA                                                                                                                                           | <a href=\"http://twitter.com/#!/download/ipad\" rel=\"nofollow\">Twitter for iPad</a>                                                            | m645_a                                                                                                                                       |  24                                                                                                                                          |  TRUE                                                                                                                                        | FALSE                                                                                                                                        | NA                                                                                                                                           | NA                                                                                                                                           | \n",
       "| RT @g1ladygaga: KAGA: as duas maiores recordistas do #SuperBowl que vocês respeitam! https://t.co/Zx4btFZflW                                 | FALSE                                                                                                                                        | 0                                                                                                                                            | NA                                                                                                                                           | 2017-02-18 16:28:49                                                                                                                          | FALSE                                                                                                                                        | NA                                                                                                                                           | 832990262322405380                                                                                                                           | NA                                                                                                                                           | <a href=\"http://twitter.com\" rel=\"nofollow\">Twitter Web Client</a>                                                                           | Looh_06                                                                                                                                      |  22                                                                                                                                          |  TRUE                                                                                                                                        | FALSE                                                                                                                                        | NA                                                                                                                                           | NA                                                                                                                                           | \n",
       "\n",
       "\n"
      ],
      "text/plain": [
       "  text                                                                                                                                        \n",
       "1 RT @RICHYSQUIRREL: . #SuperBowl @ladygaga @pepsi Some dreams are unexpected then reality throws you a football! Big thanks everyone apart o…\n",
       "2 DenverWestword: More customers bought indica #cannabis on this year's #SuperBowl than last. https://t.co/l3QI21jnHK                         \n",
       "3 @ladygaga Thank u 4not being political during the #superbowl Its refreshing to c an ENTERTAINER rather than a politician during 1/2time #USA\n",
       "4 More customers bought indica #cannabis on this year's #SuperBowl than last. https://t.co/jSiSHBNPRi                                         \n",
       "5 RT @LM_danielaa: EL SHOW DE GAGA EN EL #SUPERBOWL SE HA CONVERTIDO EN EL SHOW MUSICAL CON MAS AUDIENCIA DE LA HISTORIA! https://t.co/oQKYsF…\n",
       "6 RT @g1ladygaga: KAGA: as duas maiores recordistas do #SuperBowl que vocês respeitam! https://t.co/Zx4btFZflW                                \n",
       "  favorited favoriteCount replyToSN created             truncated replyToSID\n",
       "1 FALSE     0             NA        2017-02-18 16:29:37 FALSE     NA        \n",
       "2 FALSE     0             NA        2017-02-18 16:29:20 FALSE     NA        \n",
       "3 FALSE     0             ladygaga  2017-02-18 16:29:14 FALSE     NA        \n",
       "4 FALSE     0             NA        2017-02-18 16:29:00 FALSE     NA        \n",
       "5 FALSE     0             NA        2017-02-18 16:28:51 FALSE     NA        \n",
       "6 FALSE     0             NA        2017-02-18 16:28:49 FALSE     NA        \n",
       "  id                 replyToUID\n",
       "1 832990465322528768 NA        \n",
       "2 832990393532821504 NA        \n",
       "3 832990368358469632 14230524  \n",
       "4 832990309453672449 NA        \n",
       "5 832990272908881922 NA        \n",
       "6 832990262322405380 NA        \n",
       "  statusSource                                                                        \n",
       "1 <a href=\"http://twitter.com/download/android\" rel=\"nofollow\">Twitter for Android</a>\n",
       "2 <a href=\"https://ifttt.com\" rel=\"nofollow\">IFTTT</a>                                \n",
       "3 <a href=\"http://twitter.com\" rel=\"nofollow\">Twitter Web Client</a>                  \n",
       "4 <a href=\"https://about.twitter.com/products/tweetdeck\" rel=\"nofollow\">TweetDeck</a> \n",
       "5 <a href=\"http://twitter.com/#!/download/ipad\" rel=\"nofollow\">Twitter for iPad</a>   \n",
       "6 <a href=\"http://twitter.com\" rel=\"nofollow\">Twitter Web Client</a>                  \n",
       "  screenName      retweetCount isRetweet retweeted longitude latitude\n",
       "1 Stefaniagerma   291           TRUE     FALSE     NA        NA      \n",
       "2 milehighcompany   0          FALSE     FALSE     NA        NA      \n",
       "3 briancruze_usa    0          FALSE     FALSE     NA        NA      \n",
       "4 DenverWestword    0          FALSE     FALSE     NA        NA      \n",
       "5 m645_a           24           TRUE     FALSE     NA        NA      \n",
       "6 Looh_06          22           TRUE     FALSE     NA        NA      "
      ]
     },
     "metadata": {},
     "output_type": "display_data"
    }
   ],
   "source": [
    "#5.3 Conversion to data.frames\n",
    "\n",
    "df<-twListToDF(tweets)\n",
    "head(df)"
   ]
  },
  {
   "cell_type": "code",
   "execution_count": 10,
   "metadata": {
    "collapsed": false,
    "scrolled": true
   },
   "outputs": [
    {
     "name": "stderr",
     "output_type": "stream",
     "text": [
      "Loading required namespace: RSQLite\n"
     ]
    },
    {
     "data": {
      "text/html": [
       "TRUE"
      ],
      "text/latex": [
       "TRUE"
      ],
      "text/markdown": [
       "TRUE"
      ],
      "text/plain": [
       "[1] TRUE"
      ]
     },
     "metadata": {},
     "output_type": "display_data"
    }
   ],
   "source": [
    "#5.4 Database Persistence\n",
    "\n",
    "sql_lite_file=tempfile()\n",
    "register_sqlite_backend(sql_lite_file)\n",
    "store_tweets_db(tweets)"
   ]
  },
  {
   "cell_type": "code",
   "execution_count": 11,
   "metadata": {
    "collapsed": false
   },
   "outputs": [
    {
     "data": {
      "text/plain": [
       "[[1]]\n",
       "[1] \"Stefaniagerma: RT @RICHYSQUIRREL: . #SuperBowl @ladygaga @pepsi Some dreams are unexpected then reality throws you a football! Big thanks everyone apart o…\"\n",
       "\n",
       "[[2]]\n",
       "[1] \"milehighcompany: DenverWestword: More customers bought indica #cannabis on this year's #SuperBowl than last. https://t.co/l3QI21jnHK\"\n",
       "\n",
       "[[3]]\n",
       "[1] \"briancruze_usa: @ladygaga Thank u 4not being political during the #superbowl Its refreshing to c an ENTERTAINER rather than a politician during 1/2time #USA\"\n",
       "\n",
       "[[4]]\n",
       "[1] \"DenverWestword: More customers bought indica #cannabis on this year's #SuperBowl than last. https://t.co/jSiSHBNPRi\"\n",
       "\n",
       "[[5]]\n",
       "[1] \"m645_a: RT @LM_danielaa: EL SHOW DE GAGA EN EL #SUPERBOWL SE HA CONVERTIDO EN EL SHOW MUSICAL CON MAS AUDIENCIA DE LA HISTORIA! https://t.co/oQKYsF…\"\n",
       "\n",
       "[[6]]\n",
       "[1] \"Looh_06: RT @g1ladygaga: KAGA: as duas maiores recordistas do #SuperBowl que vocês respeitam! https://t.co/Zx4btFZflW\"\n"
      ]
     },
     "metadata": {},
     "output_type": "display_data"
    }
   ],
   "source": [
    "from_db=load_tweets_db()\n",
    "head(from_db)"
   ]
  },
  {
   "cell_type": "code",
   "execution_count": 12,
   "metadata": {
    "collapsed": false,
    "scrolled": false
   },
   "outputs": [
    {
     "data": {
      "text/plain": [
       "[[1]]\n",
       "[1] \"cranatic: Update: Bchron, BoolNet, caribou, CePa, fmri, HTSCluster, isa2, lessR, lgcp, spatstat. http://t.co/skyrajMA #rstats\"\n",
       "\n",
       "[[2]]\n",
       "[1] \"cranatic: New: extrafont, extrafontdb, Rttf2pt1, x12GUI. http://t.co/skyrajMA #rstats\"\n",
       "\n",
       "[[3]]\n",
       "[1] \"cranatic: Update: drc, RcmdrPlugin.survival, rrcov, spls. http://t.co/eEoXNifB #rstats\"\n",
       "\n",
       "[[4]]\n",
       "[1] \"cranatic: New: hzar. http://t.co/eEoXNifB #rstats\"\n",
       "\n",
       "[[5]]\n",
       "[1] \"cranatic: Update: directlabels, forensim, gdata, gWidgetstcltk, gWidgetsWWW, harvestr, rrlda, Rz, Sim.DiffProc, ... http://t.co/9JEe7K91 #rstats\"\n"
      ]
     },
     "metadata": {},
     "output_type": "display_data"
    }
   ],
   "source": [
    "#5.5 Timelines\n",
    "\n",
    "cran_tweets<-userTimeline('cranatic')\n",
    "cran_tweets[1:5]"
   ]
  },
  {
   "cell_type": "code",
   "execution_count": 13,
   "metadata": {
    "collapsed": false,
    "scrolled": true
   },
   "outputs": [
    {
     "data": {
      "text/html": [
       "100"
      ],
      "text/latex": [
       "100"
      ],
      "text/markdown": [
       "100"
      ],
      "text/plain": [
       "[1] 100"
      ]
     },
     "metadata": {},
     "output_type": "display_data"
    }
   ],
   "source": [
    "cran_tweets_large<-userTimeline('cranatic', n=100)\n",
    "length(cran_tweets_large)"
   ]
  },
  {
   "cell_type": "code",
   "execution_count": 14,
   "metadata": {
    "collapsed": false,
    "scrolled": true
   },
   "outputs": [
    {
     "data": {
      "text/html": [
       "<table>\n",
       "<thead><tr><th scope=col>name</th><th scope=col>country</th><th scope=col>woeid</th></tr></thead>\n",
       "<tbody>\n",
       "\t<tr><td>Worldwide</td><td>         </td><td>1        </td></tr>\n",
       "\t<tr><td>Winnipeg </td><td>Canada   </td><td>2972     </td></tr>\n",
       "\t<tr><td>Ottawa   </td><td>Canada   </td><td>3369     </td></tr>\n",
       "\t<tr><td>Quebec   </td><td>Canada   </td><td>3444     </td></tr>\n",
       "\t<tr><td>Montreal </td><td>Canada   </td><td>3534     </td></tr>\n",
       "\t<tr><td>Toronto  </td><td>Canada   </td><td>4118     </td></tr>\n",
       "</tbody>\n",
       "</table>\n"
      ],
      "text/latex": [
       "\\begin{tabular}{r|lll}\n",
       " name & country & woeid\\\\\n",
       "\\hline\n",
       "\t Worldwide &           & 1        \\\\\n",
       "\t Winnipeg  & Canada    & 2972     \\\\\n",
       "\t Ottawa    & Canada    & 3369     \\\\\n",
       "\t Quebec    & Canada    & 3444     \\\\\n",
       "\t Montreal  & Canada    & 3534     \\\\\n",
       "\t Toronto   & Canada    & 4118     \\\\\n",
       "\\end{tabular}\n"
      ],
      "text/markdown": [
       "\n",
       "name | country | woeid | \n",
       "|---|---|---|---|---|---|\n",
       "| Worldwide |           | 1         | \n",
       "| Winnipeg  | Canada    | 2972      | \n",
       "| Ottawa    | Canada    | 3369      | \n",
       "| Quebec    | Canada    | 3444      | \n",
       "| Montreal  | Canada    | 3534      | \n",
       "| Toronto   | Canada    | 4118      | \n",
       "\n",
       "\n"
      ],
      "text/plain": [
       "  name      country woeid\n",
       "1 Worldwide         1    \n",
       "2 Winnipeg  Canada  2972 \n",
       "3 Ottawa    Canada  3369 \n",
       "4 Quebec    Canada  3444 \n",
       "5 Montreal  Canada  3534 \n",
       "6 Toronto   Canada  4118 "
      ]
     },
     "metadata": {},
     "output_type": "display_data"
    }
   ],
   "source": [
    "#5.6 Trends\n",
    "\n",
    "avail_trends=availableTrendLocations()\n",
    "head(avail_trends)"
   ]
  },
  {
   "cell_type": "code",
   "execution_count": 15,
   "metadata": {
    "collapsed": false
   },
   "outputs": [
    {
     "data": {
      "text/html": [
       "<table>\n",
       "<thead><tr><th scope=col>name</th><th scope=col>country</th><th scope=col>woeid</th></tr></thead>\n",
       "<tbody>\n",
       "\t<tr><td>Concepcion</td><td>Chile     </td><td>349860    </td></tr>\n",
       "</tbody>\n",
       "</table>\n"
      ],
      "text/latex": [
       "\\begin{tabular}{r|lll}\n",
       " name & country & woeid\\\\\n",
       "\\hline\n",
       "\t Concepcion & Chile      & 349860    \\\\\n",
       "\\end{tabular}\n"
      ],
      "text/markdown": [
       "\n",
       "name | country | woeid | \n",
       "|---|\n",
       "| Concepcion | Chile      | 349860     | \n",
       "\n",
       "\n"
      ],
      "text/plain": [
       "  name       country woeid \n",
       "1 Concepcion Chile   349860"
      ]
     },
     "metadata": {},
     "output_type": "display_data"
    }
   ],
   "source": [
    "close_trends=closestTrendLocations(-42.8,-71.1)\n",
    "head(close_trends)"
   ]
  },
  {
   "cell_type": "code",
   "execution_count": 16,
   "metadata": {
    "collapsed": false
   },
   "outputs": [
    {
     "data": {
      "text/html": [
       "<table>\n",
       "<thead><tr><th scope=col>name</th><th scope=col>url</th><th scope=col>query</th><th scope=col>woeid</th></tr></thead>\n",
       "<tbody>\n",
       "\t<tr><td>#AAASmtg                                 </td><td>http://twitter.com/search?q=%23AAASmtg   </td><td>%23AAASmtg                               </td><td>2367105                                  </td></tr>\n",
       "\t<tr><td>#GoCrimson                               </td><td>http://twitter.com/search?q=%23GoCrimson </td><td>%23GoCrimson                             </td><td>2367105                                  </td></tr>\n",
       "\t<tr><td>#DayofFacts                              </td><td>http://twitter.com/search?q=%23DayofFacts</td><td>%23DayofFacts                            </td><td>2367105                                  </td></tr>\n",
       "\t<tr><td>Columbia                                 </td><td>http://twitter.com/search?q=Columbia     </td><td>Columbia                                 </td><td>2367105                                  </td></tr>\n",
       "\t<tr><td>#PokemonGO                               </td><td>http://twitter.com/search?q=%23PokemonGO </td><td>%23PokemonGO                             </td><td>2367105                                  </td></tr>\n",
       "\t<tr><td>#FakeNews                                </td><td>http://twitter.com/search?q=%23FakeNews  </td><td>%23FakeNews                              </td><td>2367105                                  </td></tr>\n",
       "</tbody>\n",
       "</table>\n"
      ],
      "text/latex": [
       "\\begin{tabular}{r|llll}\n",
       " name & url & query & woeid\\\\\n",
       "\\hline\n",
       "\t \\#AAASmtg                                  & http://twitter.com/search?q=\\%23AAASmtg    & \\%23AAASmtg                                & 2367105                                    \\\\\n",
       "\t \\#GoCrimson                                & http://twitter.com/search?q=\\%23GoCrimson  & \\%23GoCrimson                              & 2367105                                    \\\\\n",
       "\t \\#DayofFacts                               & http://twitter.com/search?q=\\%23DayofFacts & \\%23DayofFacts                             & 2367105                                    \\\\\n",
       "\t Columbia                                  & http://twitter.com/search?q=Columbia      & Columbia                                  & 2367105                                  \\\\\n",
       "\t \\#PokemonGO                                & http://twitter.com/search?q=\\%23PokemonGO  & \\%23PokemonGO                              & 2367105                                    \\\\\n",
       "\t \\#FakeNews                                 & http://twitter.com/search?q=\\%23FakeNews   & \\%23FakeNews                               & 2367105                                    \\\\\n",
       "\\end{tabular}\n"
      ],
      "text/markdown": [
       "\n",
       "name | url | query | woeid | \n",
       "|---|---|---|---|---|---|\n",
       "| #AAASmtg                                  | http://twitter.com/search?q=%23AAASmtg    | %23AAASmtg                                | 2367105                                   | \n",
       "| #GoCrimson                                | http://twitter.com/search?q=%23GoCrimson  | %23GoCrimson                              | 2367105                                   | \n",
       "| #DayofFacts                               | http://twitter.com/search?q=%23DayofFacts | %23DayofFacts                             | 2367105                                   | \n",
       "| Columbia                                  | http://twitter.com/search?q=Columbia      | Columbia                                  | 2367105                                   | \n",
       "| #PokemonGO                                | http://twitter.com/search?q=%23PokemonGO  | %23PokemonGO                              | 2367105                                   | \n",
       "| #FakeNews                                 | http://twitter.com/search?q=%23FakeNews   | %23FakeNews                               | 2367105                                   | \n",
       "\n",
       "\n"
      ],
      "text/plain": [
       "  name        url                                       query         woeid  \n",
       "1 #AAASmtg    http://twitter.com/search?q=%23AAASmtg    %23AAASmtg    2367105\n",
       "2 #GoCrimson  http://twitter.com/search?q=%23GoCrimson  %23GoCrimson  2367105\n",
       "3 #DayofFacts http://twitter.com/search?q=%23DayofFacts %23DayofFacts 2367105\n",
       "4 Columbia    http://twitter.com/search?q=Columbia      Columbia      2367105\n",
       "5 #PokemonGO  http://twitter.com/search?q=%23PokemonGO  %23PokemonGO  2367105\n",
       "6 #FakeNews   http://twitter.com/search?q=%23FakeNews   %23FakeNews   2367105"
      ]
     },
     "metadata": {},
     "output_type": "display_data"
    }
   ],
   "source": [
    "trends=getTrends(2367105)\n",
    "head(trends)"
   ]
  },
  {
   "cell_type": "code",
   "execution_count": 17,
   "metadata": {
    "collapsed": false
   },
   "outputs": [
    {
     "data": {
      "image/png": "[encoded data removed]",
      "text/plain": [
       "plot without title"
      ]
     },
     "metadata": {},
     "output_type": "display_data"
    }
   ],
   "source": [
    "#5.7 A simple example to pull the most recent results from the public timeline and see the clients that were used to post those statuses.\n",
    "\n",
    "r_tweets<-searchTwitter(\"#rstats\",n=300)\n",
    "sources<-sapply(r_tweets,function(x)x$getStatusSource())\n",
    "sources<-gsub(\"</a>\",\"\",sources)\n",
    "sources<-strsplit(sources,\">\")\n",
    "sources<-sapply(sources,function(x)ifelse(length(x)>1,x[2],x[1]))\n",
    "source_table=table(sources)\n",
    "pie(source_table[source_table>10])"
   ]
  }
 ],
 "metadata": {
  "kernelspec": {
   "display_name": "R",
   "language": "R",
   "name": "ir"
  },
  "language_info": {
   "codemirror_mode": "r",
   "file_extension": ".r",
   "mimetype": "text/x-r-source",
   "name": "R",
   "pygments_lexer": "r",
   "version": "3.3.2"
  }
 },
 "nbformat": 4,
 "nbformat_minor": 2
}
